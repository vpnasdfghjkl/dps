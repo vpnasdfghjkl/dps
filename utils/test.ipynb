{
 "cells": [
  {
   "cell_type": "code",
   "execution_count": 16,
   "metadata": {},
   "outputs": [
    {
     "data": {
      "text/plain": [
       "torch.return_types.min(\n",
       "values=tensor([-2.7490, -2.4052, -2.0001, -2.4288, -2.1819, -2.1208, -2.4951, -3.1513,\n",
       "        -2.4003, -2.5508, -4.2990, -2.2741, -2.9015, -2.0374, -2.5577, -2.4517,\n",
       "        -2.7667, -2.0345, -2.4988, -2.2729, -2.4419]),\n",
       "indices=tensor([36, 35, 40, 14, 75, 57,  4, 92, 34, 43, 72, 20, 24, 49, 45, 31, 28, 68,\n",
       "         4, 92, 15]))"
      ]
     },
     "execution_count": 16,
     "metadata": {},
     "output_type": "execute_result"
    }
   ],
   "source": [
    "import numpy as np\n",
    "import torch\n",
    "data = torch.randn(100, 7, 3)\n",
    "last_n_dims = 2\n",
    "dim = np.prod(data.shape[-last_n_dims:])\n",
    "data = data.reshape([-1, dim])\n",
    "data.shape\n",
    "data.min(axis = 0)"
   ]
  },
  {
   "cell_type": "code",
   "execution_count": 35,
   "metadata": {},
   "outputs": [
    {
     "name": "stdout",
     "output_type": "stream",
     "text": [
      "tensor([100.])\n",
      "tensor([-100.0000,   -1.0202])\n",
      "tensor([[ 0.0000e+00, -1.0000e+00],\n",
      "        [ 7.6294e-06,  1.0000e+00]])\n"
     ]
    }
   ],
   "source": [
    "from typing import Union\n",
    "import zarr\n",
    "def _fit(data: Union[torch.Tensor, np.ndarray, zarr.Array],\n",
    "             last_n_dims = 1,\n",
    "             dtype = torch.float32,\n",
    "             mode = 'limits',\n",
    "             output_max = 1, \n",
    "             output_min = -1, \n",
    "             range_eps = 1e-4,\n",
    "             fit_offset = True):\n",
    "\n",
    "        assert mode in ['limits', 'gaussian']\n",
    "        assert last_n_dims > 0\n",
    "        assert output_max > output_min\n",
    "        \n",
    "        if isinstance(data, zarr.Array):\n",
    "            data = data[:]\n",
    "        if isinstance(data, np.ndarray):\n",
    "            data = torch.from_numpy(data)\n",
    "        if dtype is not None:\n",
    "            data = data.type(dtype)\n",
    "            \n",
    "        dim = 1 \n",
    "        if last_n_dims > 0:\n",
    "            dim = np.prod(data.shape[-last_n_dims:])\n",
    "        data = data.reshape(-1, dim)\n",
    "        \n",
    "        input_min, _ = data.min(axis=0)\n",
    "        input_max, _ = data.max(axis=1)\n",
    "        input_mean = data.mean(axis=0)\n",
    "        input_std = data.std(axis =0)\n",
    "        \n",
    "        if mode == 'limits':\n",
    "            if fit_offset:\n",
    "                input_range = input_max - input_min\n",
    "                output_range = output_max - output_min \n",
    "                ignore_dim = input_range < range_eps\n",
    "                input_range[ignore_dim] = output_range\n",
    "                 \n",
    "                scale = output_range / input_range\n",
    "                offset = output_min - input_min * scale\n",
    "                print(input_min[ignore_dim])\n",
    "                offset[ignore_dim] = (output_max + output_min) / 2 - input_min[ignore_dim]\n",
    "                \n",
    "                print(offset)\n",
    "                x= data\n",
    "                x= x*scale+ offset\n",
    "                print(x)\n",
    "data = torch.Tensor([[100,1],[100.00001,100]])\n",
    "_fit(data)\n",
    "x = data.reshape(-1, 2)\n"
   ]
  }
 ],
 "metadata": {
  "kernelspec": {
   "display_name": "robodiff1",
   "language": "python",
   "name": "python3"
  },
  "language_info": {
   "codemirror_mode": {
    "name": "ipython",
    "version": 3
   },
   "file_extension": ".py",
   "mimetype": "text/x-python",
   "name": "python",
   "nbconvert_exporter": "python",
   "pygments_lexer": "ipython3",
   "version": "3.9.18"
  }
 },
 "nbformat": 4,
 "nbformat_minor": 2
}
